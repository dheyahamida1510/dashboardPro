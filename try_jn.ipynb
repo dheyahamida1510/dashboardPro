{
 "cells": [
  {
   "cell_type": "code",
   "execution_count": 1,
   "metadata": {},
   "outputs": [],
   "source": [
    "import re\n",
    "from time import sleep\n",
    "import json"
   ]
  },
  {
   "cell_type": "code",
   "execution_count": 2,
   "metadata": {},
   "outputs": [
    {
     "name": "stdout",
     "output_type": "stream",
     "text": [
      "[1, 5, 4, 0, 0]\n"
     ]
    }
   ],
   "source": [
    "sleep(3)\n",
    "words = [\n",
    "    \"Apr 2023 - Present \\u00b7 1 yr 4 mos\",\n",
    "    \"2013 - 2018 \\u00b7 5 yrs\",\n",
    "    \"Jan 2020 - Present \\u00b7 4 yrs 7 mos\",\n",
    "    \"Jun 2017 - Sep 2017 \\u00b7 4 mos\",\n",
    "    \"Jan 2017 - Jun 2017 \\u00b7 6 mos\",\n",
    "]\n",
    "\n",
    "years = []\n",
    "\n",
    "for i in words:\n",
    "    y = re.search(r\"·\\s+(\\d+)\\s+(yr|yrs?)\", i)\n",
    "    if y:\n",
    "        yr = int(y.group(1))\n",
    "    else:\n",
    "        yr = 0\n",
    "    years.append(yr)\n",
    "\n",
    "print(years)\n",
    "sleep(3)"
   ]
  },
  {
   "cell_type": "code",
   "execution_count": 3,
   "metadata": {},
   "outputs": [
    {
     "name": "stdout",
     "output_type": "stream",
     "text": [
      "[4, 0, 7, 4, 6]\n"
     ]
    }
   ],
   "source": [
    "months = []\n",
    "\n",
    "for i in words:\n",
    "    m = re.search(r\"\\b(\\d+)\\s+mos\\b\", i)\n",
    "    if m:\n",
    "        mos = int(m.group(1))\n",
    "    else:\n",
    "        mos = 0\n",
    "    months.append(mos)\n",
    "\n",
    "print(months)\n",
    "sleep(3)"
   ]
  },
  {
   "cell_type": "code",
   "execution_count": 4,
   "metadata": {},
   "outputs": [
    {
     "name": "stdout",
     "output_type": "stream",
     "text": [
      "[16, 60, 55, 4, 6]\n",
      "[60, 55, 16, 6, 4]\n"
     ]
    }
   ],
   "source": [
    "total_mos = []\n",
    "\n",
    "for i in words:\n",
    "\n",
    "    yr = 0\n",
    "    y = re.search(r\"·\\s+(\\d+)\\s+(yr|yrs?)\", i)\n",
    "    if y:\n",
    "        yr = int(y.group(1))\n",
    "    yr_to_mos = yr*12\n",
    "\n",
    "    mos = 0\n",
    "    m = re.search(r\"\\b(\\d+)\\s+mos\\b\", i)\n",
    "    if m:\n",
    "        mos = int(m.group(1))\n",
    "\n",
    "    total = yr_to_mos + mos\n",
    "\n",
    "    total_mos.append(total)\n",
    "\n",
    "print(total_mos)\n",
    "total_mos.sort(reverse=True)\n",
    "print(total_mos)\n",
    "sleep(3)"
   ]
  },
  {
   "cell_type": "code",
   "execution_count": 5,
   "metadata": {},
   "outputs": [
    {
     "name": "stdout",
     "output_type": "stream",
     "text": [
      "141\n"
     ]
    }
   ],
   "source": [
    "mos_sum = 0\n",
    "\n",
    "for i in total_mos:\n",
    "    mos_sum = mos_sum + i\n",
    "\n",
    "print(mos_sum)\n",
    "sleep(3)"
   ]
  },
  {
   "cell_type": "code",
   "execution_count": 20,
   "metadata": {},
   "outputs": [],
   "source": [
    "with open(\"D:\\\\Dokumen\\\\dashboardPro\\\\try_fl.json\", \"r+\") as f:\n",
    "    trying = json.load(f)\n",
    "    trying.append({\"count\" : mos_sum})\n",
    "    json_data = json.dumps(trying, indent=3)\n",
    "    f.seek(0)\n",
    "    f.write(json_data)"
   ]
  },
  {
   "cell_type": "code",
   "execution_count": 21,
   "metadata": {},
   "outputs": [
    {
     "name": "stdout",
     "output_type": "stream",
     "text": [
      "no\n"
     ]
    }
   ],
   "source": [
    "abc = []\n",
    "if abc:\n",
    "    print(\"yes\")\n",
    "else:\n",
    "    print(\"no\")"
   ]
  }
 ],
 "metadata": {
  "kernelspec": {
   "display_name": "Python 3.12.1 64-bit",
   "language": "python",
   "name": "python3"
  },
  "language_info": {
   "codemirror_mode": {
    "name": "ipython",
    "version": 3
   },
   "file_extension": ".py",
   "mimetype": "text/x-python",
   "name": "python",
   "nbconvert_exporter": "python",
   "pygments_lexer": "ipython3",
   "version": "3.12.1"
  },
  "orig_nbformat": 4,
  "vscode": {
   "interpreter": {
    "hash": "46c7b3ce11fac80a7ec61a732b9114a67a3e126ef4be091d1ea966eb28f68a85"
   }
  }
 },
 "nbformat": 4,
 "nbformat_minor": 2
}
