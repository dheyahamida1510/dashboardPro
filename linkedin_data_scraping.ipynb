{
 "cells": [
  {
   "cell_type": "code",
   "execution_count": 1,
   "metadata": {},
   "outputs": [],
   "source": [
    "# deklarasi library yang akan digunakan\n",
    "from selenium import webdriver\n",
    "from selenium.webdriver.common.by import By\n",
    "from bs4 import BeautifulSoup\n",
    "from time import sleep\n",
    "import json\n",
    "from random import randint\n",
    "\n",
    "# untuk password akun LinkedIn\n",
    "with open(\"D:\\\\Dokumen\\\\account.txt\") as f:\n",
    "    acc = f.readline()"
   ]
  },
  {
   "cell_type": "code",
   "execution_count": 2,
   "metadata": {},
   "outputs": [
    {
     "name": "stderr",
     "output_type": "stream",
     "text": [
      "C:\\Users\\ThinkPad W530\\AppData\\Local\\Temp\\ipykernel_8936\\1219061794.py:8: DeprecationWarning: executable_path has been deprecated, please pass in a Service object\n",
      "  driver = webdriver.Chrome(executable_path=\"D:\\\\chromedriver-win64\\\\chromedriver-win64\\\\chromedriver.exe\", options=options)\n"
     ]
    }
   ],
   "source": [
    "# membuat instance webdriver\n",
    "# headless Chrome browser\n",
    "# (web driver didownload di : https://googlechromelabs.github.io/chrome-for-testing/#stable )\n",
    "options = webdriver.ChromeOptions()\n",
    "options.add_argument(\"--headless\")\n",
    "options.add_argument(\"--no-sandbox\")\n",
    "options.add_argument(\"--disable-dev-shm-usage\")\n",
    "driver = webdriver.Chrome(executable_path=\"D:\\\\chromedriver-win64\\\\chromedriver-win64\\\\chromedriver.exe\", options=options)\n",
    "\n",
    "# membuka halaman login LinkedIn\n",
    "driver.get(\"https://linkedin.com/uas/login\")\n",
    " \n",
    "# tunggu loading halaman\n",
    "sleep(randint(5, 7))"
   ]
  },
  {
   "cell_type": "code",
   "execution_count": 3,
   "metadata": {},
   "outputs": [],
   "source": [
    "# Mengisi username/alamat email\n",
    "# cari field untuk mengisi username (email)\n",
    "username = driver.find_element(By.ID, \"username\")\n",
    "# mengisi alamat email\n",
    "username.send_keys(\"dheyahamida@upi.edu\")  \n",
    " \n",
    "# Mengisi password\n",
    "password = driver.find_element(By.ID, \"password\")\n",
    "password.send_keys(acc)\n",
    " \n",
    "# Format XPATH ---> //tagname[@attribute='value']\n",
    "driver.find_element(By.XPATH, \"//button[@type='submit']\").click()\n",
    "# tunggu loading halaman\n",
    "sleep(randint(5, 6))\n",
    "\n",
    "# check code\n",
    "#print(driver.page_source)"
   ]
  },
  {
   "cell_type": "code",
   "execution_count": 5,
   "metadata": {},
   "outputs": [],
   "source": [
    "# placeholder data\n",
    "link_list = [\n",
    "    \"https://www.linkedin.com/in/saiku1/\",\n",
    "    \"https://www.linkedin.com/in/tarandeep-singh-947135104/\",\n",
    "#    \"https://www.linkedin.com/in/sylvester-kwame-inkoom-phd-6357b560/\",\n",
    "#    \"https://www.linkedin.com/in/mdcochran/\",\n",
    "#    \"https://www.linkedin.com/in/ameya-kabre/\",\n",
    "#    \"https://www.linkedin.com/in/maddyrandle/\",\n",
    "#    \"https://www.linkedin.com/in/kevincendana/\",\n",
    "#    \"https://www.linkedin.com/in/-nupurgupta/\",\n",
    "#    \"https://www.linkedin.com/in/shubhada-bagal/\",\n",
    "#    \"https://www.linkedin.com/in/zaretta-hammond-2b122ba/\",\n",
    "]"
   ]
  },
  {
   "cell_type": "code",
   "execution_count": 6,
   "metadata": {},
   "outputs": [],
   "source": [
    "people_data = []\n",
    "\n",
    "for dsnt_link in link_list:\n",
    "\n",
    "    driver.get(dsnt_link)\n",
    "    sleep(randint(5, 7))\n",
    "    source = driver.page_source\n",
    "    soup = BeautifulSoup(source, \"html.parser\")\n",
    "\n",
    "    # Mendapatkan bagian introduction dari profil\n",
    "    # (name, work, location)\n",
    "    intro = soup.find(\"div\", class_= \"mt2 relative\")\n",
    "\n",
    "    # check code\n",
    "    # print(intro)\n",
    "\n",
    "    name = intro.find(\"h1\", class_=\"text-heading-xlarge inline t-24 v-align-middle break-words\").text.strip()\n",
    "    work = intro.find(\"div\", class_=\"text-body-medium break-words\").text.strip()\n",
    "    loc = intro.find(\"span\", class_=\"text-body-small inline t-black--light break-words\").text.strip()\n",
    "\n",
    "    # check code\n",
    "    # print(\"Nama     : \" + name + \"\\nProfesi     : \" + work + \"\\nLokasi    : \" + loc)\n",
    "\n",
    "\n",
    "    # Mengambil data Experience\n",
    "\n",
    "    experience = []\n",
    "\n",
    "    # Jika ada element \"navigation-index-see-all-experiences\"\n",
    "    if(soup.find(\"a\", attrs={\"id\" : \"navigation-index-see-all-experiences\"})):\n",
    "        driver.find_element(By.XPATH, \"//*[@id='navigation-index-see-all-experiences']\").click()\n",
    "        sleep(randint(3, 5))\n",
    "        experien = driver.page_source\n",
    "        soup = BeautifulSoup(experien, \"html.parser\")\n",
    "\n",
    "        exp = soup.find_all(\"div\", attrs={\"data-view-name\" : \"profile-component-entity\"})\n",
    "\n",
    "        for e in exp:\n",
    "            exprn = e.find(\"div\", class_=\"display-flex flex-row justify-space-between\")\n",
    "\n",
    "            if(exprn.find(\"div\", class_=\"display-flex align-items-center mr1 t-bold\")):\n",
    "                n = exprn.find(\"div\", class_=\"display-flex align-items-center mr1 t-bold\")\n",
    "                exp_name = n.find(\"span\", attrs={\"aria-hidden\" : \"true\"}).text.strip()\n",
    "\n",
    "                l = exprn.find(\"span\", class_=\"t-14 t-normal\")\n",
    "                exp_loc = l.find(\"span\", attrs={\"aria-hidden\" : \"true\"}).text.strip()\n",
    "\n",
    "                t = exprn.find(\"span\", class_=\"t-14 t-normal t-black--light\")\n",
    "                exp_tm = t.find(\"span\", attrs={\"aria-hidden\" : \"true\"}).text.strip()\n",
    "\n",
    "                exp_dict = {\"name\" : exp_name, \"location\" : exp_loc, \"time\" : exp_tm}\n",
    "                experience.append(exp_dict)\n",
    "\n",
    "                # check code\n",
    "                # print(exp_name + \"\\nLocation :\\n\" + exp_loc + \"\\nTime :\\n\" + exp_tm + \"\\n\")\n",
    "                # print(\"\\n\")\n",
    "                \n",
    "    # Jika tidak ada\n",
    "    else:\n",
    "        experien = driver.page_source\n",
    "        soup = BeautifulSoup(experien, \"html.parser\")\n",
    "        expcl = soup.find_all(\"section\", attrs={\"data-view-name\" : \"profile-card\"})\n",
    "\n",
    "        for i in expcl:\n",
    "            if(i.find(\"h2\", class_=\"pvs-header__title text-heading-large\")):\n",
    "                head = i.find(\"h2\", class_=\"pvs-header__title text-heading-large\")\n",
    "                if(head.find(\"span\", attrs={\"aria-hidden\" : \"true\"}).text.strip() == \"Experience\"):\n",
    "                    exp = i.find_all(\"div\", attrs={\"data-view-name\" : \"profile-component-entity\"})\n",
    "\n",
    "                    for e in exp:\n",
    "                        exprn = e.find(\"div\", class_=\"display-flex flex-row justify-space-between\")\n",
    "\n",
    "                        if(exprn.find(\"div\", class_=\"display-flex align-items-center mr1 t-bold\")):\n",
    "                            n = exprn.find(\"div\", class_=\"display-flex align-items-center mr1 t-bold\")\n",
    "                            exp_name = n.find(\"span\", attrs={\"aria-hidden\" : \"true\"}).text.strip()\n",
    "\n",
    "                            l = exprn.find(\"span\", class_=\"t-14 t-normal\")\n",
    "                            exp_loc = l.find(\"span\", attrs={\"aria-hidden\" : \"true\"}).text.strip()\n",
    "\n",
    "                            t = exprn.find(\"span\", class_=\"t-14 t-normal t-black--light\")\n",
    "                            exp_tm = t.find(\"span\", attrs={\"aria-hidden\" : \"true\"}).text.strip()\n",
    "\n",
    "                            exp_dict = {\"name\" : exp_name, \"location\" : exp_loc, \"time\" : exp_tm}\n",
    "                            experience.append(exp_dict)\n",
    "\n",
    "                            # check code\n",
    "                            # print(exp_name + \"\\nLocation :\\n\" + exp_loc + \"\\nTime :\\n\" + exp_tm + \"\\n\")\n",
    "                            # print(\"\\n\")\n",
    "\n",
    "    profile_dict = {\n",
    "        \"name\" : name,\n",
    "        \"work\" : work,\n",
    "        \"location\" : loc,\n",
    "        \"link\" : dsnt_link,\n",
    "        \"experiences\" : experience\n",
    "    }\n",
    "\n",
    "    people_data.append(profile_dict)\n",
    "    sleep(randint(3, 6))"
   ]
  },
  {
   "cell_type": "code",
   "execution_count": 7,
   "metadata": {},
   "outputs": [],
   "source": [
    "json_data = json.dumps(people_data, indent=3)\n",
    "with open(\"D:\\\\Dokumen\\\\dashboardPro\\\\people_data.json\", \"r+\") as pd:\n",
    "    people_data = json.load(pd)\n",
    "    pd.seek(0)\n",
    "    pd.write(json_data)"
   ]
  },
  {
   "cell_type": "code",
   "execution_count": 8,
   "metadata": {},
   "outputs": [],
   "source": [
    "driver.close()"
   ]
  }
 ],
 "metadata": {
  "kernelspec": {
   "display_name": "Python 3.12.1 64-bit",
   "language": "python",
   "name": "python3"
  },
  "language_info": {
   "codemirror_mode": {
    "name": "ipython",
    "version": 3
   },
   "file_extension": ".py",
   "mimetype": "text/x-python",
   "name": "python",
   "nbconvert_exporter": "python",
   "pygments_lexer": "ipython3",
   "version": "3.12.1"
  },
  "orig_nbformat": 4,
  "vscode": {
   "interpreter": {
    "hash": "46c7b3ce11fac80a7ec61a732b9114a67a3e126ef4be091d1ea966eb28f68a85"
   }
  }
 },
 "nbformat": 4,
 "nbformat_minor": 2
}
