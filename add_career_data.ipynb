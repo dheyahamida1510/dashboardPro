{
 "cells": [
  {
   "cell_type": "code",
   "execution_count": 35,
   "metadata": {},
   "outputs": [],
   "source": [
    "import json\n",
    "\n",
    "with open(\"D:\\\\Dokumen\\\\dashboardPro\\\\career_data_temp.json\", \"r+\") as pd:\n",
    "    career_data = json.load(pd)"
   ]
  },
  {
   "cell_type": "code",
   "execution_count": 36,
   "metadata": {},
   "outputs": [
    {
     "name": "stdout",
     "output_type": "stream",
     "text": [
      "{'name': 'Other', 'career': [], 'people': [], 'count': 0}\n"
     ]
    }
   ],
   "source": [
    "print(career_data[len(career_data)-1])"
   ]
  },
  {
   "cell_type": "code",
   "execution_count": 37,
   "metadata": {},
   "outputs": [],
   "source": [
    "wk = input(\"job name/ category : \")\n",
    "\n",
    "c = 0\n",
    "match_found = False\n",
    "\n",
    "while c < len(career_data):\n",
    "    if career_data[c][\"name\"] == wk.title():\n",
    "        confirm_1 = input(\"Confirm \" + wk.title() + \"?\")\n",
    "        if confirm_1.lower() == \"yes\":\n",
    "            print(career_data[c][\"career\"])\n",
    "            q = input(\"Add career?\")\n",
    "            if q.lower() == \"yes\":\n",
    "                nc = int(input(\"Number of career : \"))\n",
    "                i = 0\n",
    "                while i < nc:\n",
    "                    career = \"\"\n",
    "                    while career == \"\":\n",
    "                        career = input(\"career name \" + str(i))\n",
    "                    career_data[c][\"career\"].append(career.title())\n",
    "                    i += 1\n",
    "        match_found = True\n",
    "        c = len(career_data)\n",
    "    c += 1\n",
    "\n",
    "if match_found == False:\n",
    "    if wk:\n",
    "        confirm_1 = input(\"New data? (\" + wk.title() + \")\")\n",
    "        if confirm_1.lower() == \"yes\":\n",
    "            c_dict = {\n",
    "                \"name\" : wk.title(),\n",
    "                \"career\" : [],\n",
    "                \"people\" : [],\n",
    "                \"count\" : 0\n",
    "            }\n",
    "            c_index = len(career_data)-1\n",
    "            career_data.insert(c_index, c_dict)\n",
    "\n",
    "            q = input(\"Add career?\")\n",
    "            if q.lower() == \"yes\":\n",
    "                nc = int(input(\"Number of career : \"))\n",
    "                i = 0\n",
    "                while i < nc:\n",
    "                    if i == 0:\n",
    "                        career_data[c_index][\"career\"].append(wk.title())\n",
    "                    else:\n",
    "                        career = \"\"\n",
    "                        while career == \"\":\n",
    "                            career = input(\"career name \" + str(i))\n",
    "                        career_data[c_index][\"career\"].append(career.title())\n",
    "                    i += 1\n",
    "\n",
    "other_dict = career_data[len(career_data)-1]\n",
    "career_data.remove(other_dict)\n",
    "\n",
    "career_data.sort(key= lambda x:x[\"name\"])\n",
    "career_data.append(other_dict)\n"
   ]
  },
  {
   "cell_type": "code",
   "execution_count": 38,
   "metadata": {},
   "outputs": [],
   "source": [
    "json_data = json.dumps(career_data, indent=3)\n",
    "with open(\"D:\\\\Dokumen\\\\dashboardPro\\\\career_data_temp.json\", \"r+\") as cd:\n",
    "    cd.seek(0)\n",
    "    cd.write(json_data)\n",
    "    cd.truncate()"
   ]
  }
 ],
 "metadata": {
  "kernelspec": {
   "display_name": "Python 3.12.1 64-bit",
   "language": "python",
   "name": "python3"
  },
  "language_info": {
   "codemirror_mode": {
    "name": "ipython",
    "version": 3
   },
   "file_extension": ".py",
   "mimetype": "text/x-python",
   "name": "python",
   "nbconvert_exporter": "python",
   "pygments_lexer": "ipython3",
   "version": "3.12.1"
  },
  "orig_nbformat": 4,
  "vscode": {
   "interpreter": {
    "hash": "46c7b3ce11fac80a7ec61a732b9114a67a3e126ef4be091d1ea966eb28f68a85"
   }
  }
 },
 "nbformat": 4,
 "nbformat_minor": 2
}
